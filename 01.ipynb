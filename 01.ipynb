{
 "cells": [
  {
   "cell_type": "code",
   "execution_count": 4,
   "metadata": {},
   "outputs": [],
   "source": [
    "def part_one(inp):\n",
    "    def find_num(s: str):\n",
    "        for char in s:\n",
    "            if char.isdigit():\n",
    "                first = char\n",
    "                break\n",
    "        for char in s[::-1]:\n",
    "            if char.isdigit():\n",
    "                second = char\n",
    "                break\n",
    "        return int(first + second)\n",
    "    m = map(find_num, inp)\n",
    "    return sum(m)"
   ]
  },
  {
   "cell_type": "code",
   "execution_count": 5,
   "metadata": {},
   "outputs": [],
   "source": [
    "\n",
    "digits = {\n",
    "    \"one\": \"1\",\n",
    "    \"two\": \"2\",\n",
    "    \"three\": \"3\",\n",
    "    \"four\": \"4\",\n",
    "    \"five\": \"5\",\n",
    "    \"six\": \"6\",\n",
    "    \"seven\": \"7\",\n",
    "    \"eigth\": \"8\",\n",
    "    \"nine\": \"9\",\n",
    "    \"zero\": \"0\",\n",
    "    \"1\": \"1\",\n",
    "    \"2\": \"2\",\n",
    "    \"3\": \"3\",\n",
    "    \"4\": \"4\",\n",
    "    \"5\": \"5\",\n",
    "    \"6\": \"6\",\n",
    "    \"7\": \"7\",\n",
    "    \"8\": \"8\",\n",
    "    \"9\": \"9\",\n",
    "    \"0\": \"0\",\n",
    "}\n",
    "\n",
    "def part_two(inp):\n",
    "\n",
    "    def find_num(s):\n",
    "            \n",
    "        f_idx = 1000\n",
    "        f_char= \"0\"\n",
    "\n",
    "        l_idx = 0\n",
    "        l_char= \"0\"\n",
    "\n",
    "        for digit in digits:\n",
    "            idx = s.find(digit)\n",
    "            if idx < f_idx and idx >= 0:\n",
    "                f_idx = idx\n",
    "                f_char = digits[digit]\n",
    "            idx = s.rfind(digit)\n",
    "            if idx > l_idx and idx >= 0:\n",
    "                l_idx = idx\n",
    "                l_char = digits[digit]\n",
    "        \n",
    "        return int(f_char + l_char)\n",
    "    \n",
    "\n",
    "\n",
    "    m = map(find_num, inp)\n",
    "\n",
    "    print(list(m))\n",
    "    return sum(m)"
   ]
  },
  {
   "cell_type": "code",
   "execution_count": 5,
   "metadata": {},
   "outputs": [
    {
     "name": "stdout",
     "output_type": "stream",
     "text": [
      "142\n"
     ]
    }
   ],
   "source": [
    "with open(\"01.test\") as fp:\n",
    "    inp = fp.read().strip('\\n').split('\\n')\n",
    "\n",
    "print(\"Test One\", part_one(inp))\n"
   ]
  },
  {
   "cell_type": "code",
   "execution_count": 6,
   "metadata": {},
   "outputs": [
    {
     "name": "stdout",
     "output_type": "stream",
     "text": [
      "Part One 54697\n"
     ]
    }
   ],
   "source": [
    "with open(\"01.inp\") as fp:\n",
    "    inp = fp.read().strip('\\n').split('\\n')\n",
    "\n",
    "print(\"Part One\", part_one(inp))"
   ]
  },
  {
   "cell_type": "code",
   "execution_count": 6,
   "metadata": {},
   "outputs": [
    {
     "name": "stdout",
     "output_type": "stream",
     "text": [
      "[29, 23, 13, 24, 42, 14, 76]\n",
      "Test Two 0\n"
     ]
    }
   ],
   "source": [
    "with open(\"01.test2\") as fp:\n",
    "    inp = fp.read().strip('\\n').split('\\n')\n",
    "\n",
    "print(\"Test Two\", part_two(inp))"
   ]
  },
  {
   "cell_type": "code",
   "execution_count": null,
   "metadata": {},
   "outputs": [],
   "source": []
  }
 ],
 "metadata": {
  "kernelspec": {
   "display_name": ".venv",
   "language": "python",
   "name": "python3"
  },
  "language_info": {
   "codemirror_mode": {
    "name": "ipython",
    "version": 3
   },
   "file_extension": ".py",
   "mimetype": "text/x-python",
   "name": "python",
   "nbconvert_exporter": "python",
   "pygments_lexer": "ipython3",
   "version": "3.11.3"
  }
 },
 "nbformat": 4,
 "nbformat_minor": 2
}
